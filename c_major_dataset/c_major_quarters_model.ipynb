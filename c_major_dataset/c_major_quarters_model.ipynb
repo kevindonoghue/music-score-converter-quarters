{
 "cells": [
  {
   "cell_type": "code",
   "execution_count": 38,
   "metadata": {},
   "outputs": [],
   "source": [
    "import numpy as np\n",
    "import json\n",
    "from pprint import pprint\n",
    "import matplotlib.pyplot as plt\n",
    "import torch\n",
    "import torch.nn as nn\n",
    "import torchvision\n",
    "import os\n",
    "import time\n",
    "from skimage import io, transform\n",
    "from skimage.color import rgb2gray\n",
    "\n",
    "device = 'cuda'"
   ]
  },
  {
   "cell_type": "code",
   "execution_count": 44,
   "metadata": {},
   "outputs": [],
   "source": [
    "height = 224\n",
    "width = 224"
   ]
  },
  {
   "cell_type": "code",
   "execution_count": 46,
   "metadata": {},
   "outputs": [],
   "source": [
    "images = np.load('augmented_images_without_extra_channels.npy').reshape(-1, 1, 224, 224)\n",
    "key_numbers = np.load('key_numbers.npy')\n",
    "measure_lengths = np.load('measure_lengths.npy') # 0 for 4/4 and 1 for 3/4"
   ]
  },
  {
   "cell_type": "code",
   "execution_count": 47,
   "metadata": {},
   "outputs": [],
   "source": [
    "with open('pc_data.json') as f:\n",
    "    pc_data = json.load(f)"
   ]
  },
  {
   "cell_type": "code",
   "execution_count": 48,
   "metadata": {},
   "outputs": [],
   "source": [
    "word_to_ix = pc_data['lexicon']['word_to_ix']\n",
    "ix_to_word = pc_data['lexicon']['ix_to_word']\n",
    "lexicon = list(word_to_ix)\n",
    "len_lexicon = len(lexicon)"
   ]
  },
  {
   "cell_type": "code",
   "execution_count": 52,
   "metadata": {},
   "outputs": [],
   "source": [
    "subsequences = []\n",
    "image_indices = []\n",
    "\n",
    "seq_len = 64\n",
    "ex_seq_len = seq_len + 1 # expanded to include both the sequence and the sequence shifted by 1\n",
    "\n",
    "for i in range(images.shape[0]):\n",
    "    pc = pc_data['pc'][i]\n",
    "    padded_pc = [int(word_to_ix['<PAD>'])]*(ex_seq_len-2) + pc + [int(word_to_ix['<PAD>'])]*(ex_seq_len-2)\n",
    "    for j in range(len(padded_pc) - ex_seq_len + 1):\n",
    "        subseq = padded_pc[j:j+ex_seq_len]\n",
    "        subsequences.append(subseq)\n",
    "        image_indices.append(i)\n",
    "        \n",
    "subsequences = np.array(subsequences)\n",
    "image_indices = np.array(image_indices)"
   ]
  },
  {
   "cell_type": "code",
   "execution_count": 53,
   "metadata": {},
   "outputs": [
    {
     "data": {
      "text/plain": [
       "(5353637, 65)"
      ]
     },
     "execution_count": 53,
     "metadata": {},
     "output_type": "execute_result"
    }
   ],
   "source": [
    "subsequences.shape"
   ]
  },
  {
   "cell_type": "code",
   "execution_count": 88,
   "metadata": {},
   "outputs": [],
   "source": [
    "def get_time_signature_layer(measure_length, height, width):\n",
    "    # measure length is 0 for 4/4 and 1 for 3/4\n",
    "    x = np.zeros((height, width)).astype(np.uint8)\n",
    "    if measure_length == 12:\n",
    "        x[:int(height/2)] += 255\n",
    "    if measure_length == 16:\n",
    "        x[int(height/2):] += 255\n",
    "    return x\n",
    "\n",
    "def get_key_signature_layer(key_number, height, width):\n",
    "    # key number is between -7 and 7 inclusive\n",
    "    x = np.zeros((height, width)).astype(np.uint8)\n",
    "    splits = np.array_split(x, 15)\n",
    "    splits[key_number+7] += 255\n",
    "    return x\n",
    "\n",
    "\n",
    "def get_batch(batch_size):\n",
    "    subsequence_batch_indices = np.random.choice(subsequences.shape[0], size=batch_size)\n",
    "    subsequence_batch = subsequences[subsequence_batch_indices]\n",
    "    input_sequence_batch = subsequence_batch[:, :-1]\n",
    "    input_sequence_batch = torch.Tensor(input_sequence_batch).type(torch.float).to(device)\n",
    "    target_sequence_batch = subsequence_batch[:, 1:]\n",
    "    target_sequence_batch = torch.Tensor(target_sequence_batch).type(torch.float).to(device)\n",
    "\n",
    "    \n",
    "    image_batch_indices = image_indices[subsequence_batch_indices]\n",
    "    image_batch = images[image_batch_indices]\n",
    "    measure_length_batch = measure_lengths[image_batch_indices]\n",
    "    key_number_batch = key_numbers[image_batch_indices]\n",
    "    \n",
    "    time_sig_44 = get_time_signature_layer(0, height, width)\n",
    "    time_sig_34 = get_time_signature_layer(1, height, width)\n",
    "    key_sig_C = get_key_signature_layer(0, height, width) # all samples here are in C\n",
    "    \n",
    "    time_sig_layer = np.zeros_like(image_batch)\n",
    "    time_sig_layer[measure_length_batch == 0] += time_sig_44\n",
    "    time_sig_layer[measure_length_batch == 1] += time_sig_34\n",
    "\n",
    "    key_sig_layer = np.zeros_like(image_batch).reshape(-1, 1, height, width)\n",
    "    key_sig_layer += key_sig_C\n",
    "    \n",
    "    image_batch = np.concatenate([image_batch, time_sig_layer, key_sig_layer], axis=1)\n",
    "    image_batch = torch.Tensor(image_batch).type(torch.float).to(device)\n",
    "    return image_batch, input_sequence_batch, target_sequence_batch, image_batch_indices"
   ]
  },
  {
   "cell_type": "code",
   "execution_count": 95,
   "metadata": {},
   "outputs": [],
   "source": [
    "x, y, z, _ = get_batch(1)\n",
    "x = x.cpu().numpy()\n",
    "y = y.cpu().numpy()\n",
    "z = z.cpu().numpy()"
   ]
  },
  {
   "cell_type": "code",
   "execution_count": 96,
   "metadata": {},
   "outputs": [
    {
     "name": "stdout",
     "output_type": "stream",
     "text": [
      "[[31. 31. 31. 31. 31. 31. 31. 31. 31. 31. 31. 31. 31. 31. 31. 31. 31. 31.\n",
      "  31. 31. 31. 31. 31. 31. 31. 31. 31. 31. 31. 31. 31. 31. 31. 31. 31. 31.\n",
      "   1. 14. 25.  5. 28. 16. 12.  8. 18. 12.  8. 27.  9.  8. 17. 30.  8.  8.\n",
      "  25.  5. 24. 16.  6.  8. 18. 12.  8. 27.]]\n",
      "[[31. 31. 31. 31. 31. 31. 31. 31. 31. 31. 31. 31. 31. 31. 31. 31. 31. 31.\n",
      "  31. 31. 31. 31. 31. 31. 31. 31. 31. 31. 31. 31. 31. 31. 31. 31. 31.  1.\n",
      "  14. 25.  5. 28. 16. 12.  8. 18. 12.  8. 27.  9.  8. 17. 30.  8.  8. 25.\n",
      "   5. 24. 16.  6.  8. 18. 12.  8. 27.  9.]]\n"
     ]
    },
    {
     "data": {
      "image/png": "[encoded data removed]",
      "text/plain": [
       "<Figure size 432x288 with 1 Axes>"
      ]
     },
     "metadata": {
      "needs_background": "light"
     },
     "output_type": "display_data"
    }
   ],
   "source": [
    "plt.imshow(x[0, 0, :, :], cmap='bone')\n",
    "print(y)\n",
    "print(z)"
   ]
  },
  {
   "cell_type": "code",
   "execution_count": null,
   "metadata": {},
   "outputs": [],
   "source": [
    "class Net(nn.Module):\n",
    "    def __init__(self, len_lexicon, lstm_hidden_size, cnn_output_size, device):\n",
    "        super().__init__()\n",
    "        self.len_lexicon = len_lexicon\n",
    "        self.lstm_hidden_size = lstm_hidden_size\n",
    "        self.cnn_output_size = cnn_output_size\n",
    "        \n",
    "        self.squeezenet = torchvision.models.squeezenet1_0(pretrained=True)\n",
    "        self.squeezenet.classifier[1] = nn.Conv2d(512, cnn_output_size, kernel_size=(1,1), stride=(1,1))\n",
    "        self.embed = nn.Embedding(num_embeddings=self.len_lexicon, embedding_dim=5)\n",
    "        self.lstm1 = nn.LSTM(input_size=5, hidden_size=self.lstm_hidden_size, num_layers=2, batch_first=True, dropout=0.25)\n",
    "        self.lstm2 = nn.LSTM(input_size=self.cnn_output_size+self.lstm_hidden_size, hidden_size=self.lstm_hidden_size, num_layers=2, batch_first=True, dropout=0.25)\n",
    "        self.fc2 = nn.Linear(self.lstm_hidden_size, self.len_lexicon)\n",
    "        \n",
    "    def forward(self, image_input, language_input, internal1=None, internal2=None):\n",
    "        bs = image_input.shape[0]\n",
    "        sl = language_input.shape[1]\n",
    "        if internal1:\n",
    "            h1, c1 = internal1\n",
    "        else:\n",
    "            h1 = torch.zeros(2, bs, self.lstm_hidden_size).to(device)\n",
    "            c1 = torch.zeros(2, bs, self.lstm_hidden_size).to(device)\n",
    "        if internal2:\n",
    "            h2, c2 = internal2\n",
    "        else:\n",
    "            h2 = torch.zeros(2, bs, self.lstm_hidden_size).to(device)\n",
    "            c2 = torch.zeros(2, bs, self.lstm_hidden_size).to(device)\n",
    "        image_output = self.squeezenet(image_input).view(bs, self.cnn_output_size)\n",
    "        image_output = image_output.repeat(1, sl).view(bs, sl, self.cnn_output_size)\n",
    "        language_output, (h1, c1) = self.lstm1(self.embed(language_input), (h1, c1))\n",
    "        concatenated = torch.cat([image_output, language_output], 2)\n",
    "        lstm2_out, (h2, c2) = self.lstm2(concatenated, (h2, c2))\n",
    "        out = self.fc2(lstm2_out)\n",
    "        return out, (h1, c1), (h2, c2)\n",
    "    \n",
    "    def fit(self, total_iterations, optimizer, loss_fn, rate_decay, print_every=100):\n",
    "        train_start_time = time.time()\n",
    "        for i in range(total_iterations):\n",
    "            arr, seq1, seq2, _ = get_batch(batch_size, height, width)\n",
    "            out, _, _ = self.forward(arr, seq1)\n",
    "            out = out.view(-1, len_lexicon)\n",
    "            targets = seq2.view(-1)\n",
    "            loss = loss_fn(out, targets)\n",
    "            loss.backward()\n",
    "            optimizer.step()\n",
    "            optimizer.zero_grad()\n",
    "            if i % print_every == 0:\n",
    "                arr, _, _, image_batch_indices = get_batch(1)\n",
    "                pc = pc_data['pc'][image_batch_indices[0]]\n",
    "                pc = ' '.join([ix_to_word[str(ix)] for ix in pc])\n",
    "                pred_seq = self.predict(arr)\n",
    "                pred_seq = ' '.join(pred_seq)\n",
    "                with open('log_c_major_quarters_model_2019-09-26.txt', 'a+') as f:\n",
    "                    info_string = f\"\"\"\n",
    "                    ----\n",
    "                    iteration: {i}\n",
    "                    time elapsed: {time.time() - train_start_time}\n",
    "                    loss: {loss}\n",
    "                    ----\n",
    "                    pred: {pred_seq}\n",
    "                    ----\n",
    "                    true: {pc}\n",
    "                    ----\n",
    "\n",
    "\n",
    "\n",
    "                    \"\"\".replace('    ', '')\n",
    "                    print(info_string)\n",
    "                    f.write(info_string)\n",
    "            if i % 5000 == 0 and i != 0:\n",
    "                for param_group in optimizer.param_groups:\n",
    "                    param_group['lr'] *= rate_decay\n",
    "                torch.save(self.state_dict(), f'c_major_quarters_model_checkpoint_iteration_{i}_2019-09-26.pt')\n",
    "            \n",
    "             \n",
    "    def predict(self, arr):\n",
    "        self.eval()    \n",
    "        with torch.no_grad():\n",
    "            output_sequence = ['<START>']\n",
    "            h1 = torch.zeros(2, 1, self.lstm_hidden_size).to(device)\n",
    "            c1 = torch.zeros(2, 1, self.lstm_hidden_size).to(device)\n",
    "            h2 = torch.zeros(2, 1, self.lstm_hidden_size).to(device)\n",
    "            c2 = torch.zeros(2, 1, self.lstm_hidden_size).to(device)\n",
    "            while output_sequence[-1] != '<END>' and len(output_sequence)<400:\n",
    "                language_input = torch.Tensor([word_to_ix[output_sequence[-1]]]).type(torch.long).view(1, 1).to(device)\n",
    "                out, (h1, c1), (h2, c2) = self.forward(arr, language_input, (h1, c1), (h2, c2))\n",
    "                _, language_input = out[0, 0, :].max(0)\n",
    "                output_sequence.append(ix_to_word[str(language_input.item())])\n",
    "        self.train()\n",
    "        return output_sequence\n",
    "    \n",
    "    def predict_stochastic(self, arr, temperature=1):\n",
    "        self.eval()    \n",
    "        with torch.no_grad():\n",
    "            arr = arr.view(1,3, 224, 224)\n",
    "            output_sequence = ['<START>']\n",
    "            h1 = torch.zeros(2, 1, self.lstm_hidden_size).to(device)\n",
    "            c1 = torch.zeros(2, 1, self.lstm_hidden_size).to(device)\n",
    "            h2 = torch.zeros(2, 1, self.lstm_hidden_size).to(device)\n",
    "            c2 = torch.zeros(2, 1, self.lstm_hidden_size).to(device)\n",
    "            while output_sequence[-1] != '<END>' and len(output_sequence)<400:\n",
    "                language_input = torch.Tensor([word_to_ix[output_sequence[-1]]]).type(torch.long).view(1, 1).to(device)\n",
    "                out, (h1, c1), (h2, c2) = self.forward(arr, language_input, (h1, c1), (h2, c2))\n",
    "                log_probs = out[0, 0, :].cpu().numpy()*temperature\n",
    "                probs = np.exp(log_probs) / np.exp(log_probs).sum()\n",
    "                predicted_ix = np.random.choice(len_lexicon, p=probs)\n",
    "                output_sequence.append(ix_to_word[str(predicted_ix)])\n",
    "        self.train()\n",
    "        return output_sequence"
   ]
  },
  {
   "cell_type": "code",
   "execution_count": null,
   "metadata": {},
   "outputs": [],
   "source": [
    "model = Net(len_lexicon, lstm_hidden_size, cnn_output_size, device).to(device)\n",
    "optimizer = torch.optim.Adam(model.parameters(), lr=1e-3)\n",
    "loss_fn = nn.CrossEntropyLoss()"
   ]
  },
  {
   "cell_type": "code",
   "execution_count": null,
   "metadata": {},
   "outputs": [],
   "source": [
    "# model = Net(len_lexicon, lstm_hidden_size, cnn_output_size, device).to(device)\n",
    "# model.load_state_dict(torch.load('---'))"
   ]
  },
  {
   "cell_type": "code",
   "execution_count": null,
   "metadata": {},
   "outputs": [],
   "source": []
  }
 ],
 "metadata": {
  "kernelspec": {
   "display_name": "Python 3",
   "language": "python",
   "name": "python3"
  },
  "language_info": {
   "codemirror_mode": {
    "name": "ipython",
    "version": 3
   },
   "file_extension": ".py",
   "mimetype": "text/x-python",
   "name": "python",
   "nbconvert_exporter": "python",
   "pygments_lexer": "ipython3",
   "version": "3.7.4"
  }
 },
 "nbformat": 4,
 "nbformat_minor": 4
}
