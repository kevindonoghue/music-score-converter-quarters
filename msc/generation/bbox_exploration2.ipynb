{
 "cells": [
  {
   "cell_type": "code",
   "execution_count": 50,
   "metadata": {},
   "outputs": [],
   "source": [
    "import numpy as np\n",
    "from bs4 import BeautifulSoup\n",
    "from skimage import io, transform\n",
    "from skimage.color import rgb2gray\n",
    "from PIL import Image, ImageDraw\n",
    "import matplotlib.pyplot as plt"
   ]
  },
  {
   "cell_type": "code",
   "execution_count": 2,
   "metadata": {},
   "outputs": [],
   "source": [
    "def get_bboxes(svg_path):\n",
    "    # returns the bounding boxes of the score page represented by svg_path as a list of sublists\n",
    "    # each entry in a sublist is of the form ((x1, y1), (x2, y2)) giving the upper left and lower right coordinates of the bbounding box\n",
    "    # the coordinates are fractions between 0 and 1; positive x is to the right and positive y is down\n",
    "    with open(svg_path) as f:\n",
    "        soup = BeautifulSoup(f, 'xml')\n",
    "    \n",
    "    svg_tag = soup.find('svg')\n",
    "    width = float(svg_tag['width'].strip('px'))\n",
    "    height = float(svg_tag['height'].strip('px'))\n",
    "\n",
    "    staff_line_tags = [x for x in soup.find_all('polyline') if x['class'] == 'StaffLines']\n",
    "    staff_line_heights = [float(x['points'].split()[0].split(',')[1]) for x in staff_line_tags]\n",
    "\n",
    "    def get_coords(s):\n",
    "        # s is a string like M425.006,618.084\n",
    "        # returns a pair of floats (425.006, 618.084)\n",
    "        x = s.split()\n",
    "        x = [y.strip('MCL') for y in x]\n",
    "        x = np.array(list(map(lambda y: list(map(float, y.split(','))), x)))\n",
    "        return x\n",
    "\n",
    "    # handle the title of the page\n",
    "    text_tags = [x for x in soup.find_all('path') if x['class'] == 'Text']\n",
    "    if text_tags:\n",
    "        text_tag = text_tags[0]\n",
    "        text_coords = get_coords(text_tag['d'])\n",
    "        text_y_coords = [x[1] for x in text_coords]\n",
    "        text_bottom_height = np.max(text_y_coords)\n",
    "        first_height = text_bottom_height\n",
    "    else:\n",
    "        first_height = 0\n",
    "\n",
    "    last_height = (staff_line_heights[-1] + height)/2\n",
    "\n",
    "    # get midpoints between lines\n",
    "    midpoints = [first_height]\n",
    "    for i in range((len(staff_line_heights) // 10)-1):\n",
    "        top = staff_line_heights[10*i + 9]\n",
    "        bottom = staff_line_heights[10*i + 10]\n",
    "        midpoints.append((top + bottom) / 2)\n",
    "    midpoints.append(last_height)\n",
    "    horizontal_fracs = [x/height for x in midpoints]\n",
    "\n",
    "    time_sigs = [x for x in soup.find_all('path') if x['class'] == 'TimeSig']\n",
    "    if time_sigs:\n",
    "        time_sig_coords = np.concatenate([get_coords(x['d']) for x in time_sigs], axis=0)\n",
    "        time_sig_max = np.max(time_sig_coords[:, 0])\n",
    "        time_sig_max_frac = time_sig_max/width\n",
    "    else:\n",
    "        time_sig_max_frac = None\n",
    "\n",
    "    key_sigs = [x for x in soup.find_all('path') if x['class'] == 'KeySig']\n",
    "    if key_sigs:\n",
    "        key_sig_coords = np.concatenate([get_coords(x['d']) for x in key_sigs], axis=0)\n",
    "        key_sig_max = np.max(key_sig_coords[:, 0])\n",
    "        key_sig_max_frac = key_sig_max/width\n",
    "    else:\n",
    "        key_sig_max_frac = None\n",
    "        \n",
    "    clefs = [x for x in soup.find_all('path') if x['class'] == 'Clef']\n",
    "    clef_coords = np.concatenate([get_coords(x['d']) for x in clefs], axis=0)\n",
    "    clef_max = np.max(clef_coords[:, 0])\n",
    "    clef_max_frac = clef_max/width\n",
    "\n",
    "\n",
    "    barlines = [x for x in soup.find_all('polyline') if x['class'] == 'BarLine']\n",
    "    def get_barline_fracs(barline):\n",
    "        # returns a, b, c where a is the horizontal fraction for the barline and b and c are the top and bottom vertical fractions\n",
    "        barline_string = barline['points']\n",
    "        x = barline_string.split()\n",
    "        y = (list(map(float, x[0].split(','))), list(map(float, x[1].split(','))))\n",
    "        a = y[0][0]/width\n",
    "        b = y[0][1]/height\n",
    "        c = y[1][1]/height\n",
    "        return a, b, c\n",
    "\n",
    "    def get_barlines_within_region(h1, h2):\n",
    "        # gets the x coordinates corresponding to barlines whose top and bottom are between h1 and h2\n",
    "        regional_x_coords = []\n",
    "        for barline in barlines:\n",
    "            a, b, c = get_barline_fracs(barline)\n",
    "            if h1 < b <h2 and h1 < c <h2:\n",
    "                regional_x_coords.append(a)\n",
    "        return regional_x_coords\n",
    "\n",
    "    sets_of_regional_x_coords = []\n",
    "    for i in range(len(horizontal_fracs)-1):\n",
    "        h1 = horizontal_fracs[i]\n",
    "        h2 = horizontal_fracs[i+1]\n",
    "        regional_x_coords = get_barlines_within_region(h1, h2)\n",
    "        # handle duplicates of barlines from the two staves\n",
    "        regional_x_coords = sorted(set(regional_x_coords))\n",
    "        # handle the case of double barline at the end of the piece\n",
    "        if len(regional_x_coords) >= 3 and np.abs(regional_x_coords[-1] - regional_x_coords[-2]) < 0.01:\n",
    "            regional_x_coords = regional_x_coords[:-2]\n",
    "        sets_of_regional_x_coords.append(regional_x_coords)\n",
    "\n",
    "    bboxes = []\n",
    "    for i in range(len(horizontal_fracs)-1):\n",
    "        h1 = horizontal_fracs[i]\n",
    "        h2 = horizontal_fracs[i+1]\n",
    "        x_coords = sets_of_regional_x_coords[i]\n",
    "        if i == 0 and time_sig_max_frac:\n",
    "            x_coords[0] = time_sig_max_frac\n",
    "        elif key_sig_max_frac:\n",
    "            x_coords[0] = key_sig_max_frac\n",
    "        else:\n",
    "            x_coords[0] = clef_max_frac\n",
    "        regional_bboxes = []\n",
    "        for j in range(len(x_coords)-1):\n",
    "            regional_bboxes.append(((x_coords[j], h1), (x_coords[j+1], h2)))\n",
    "        bboxes.append(regional_bboxes)\n",
    "\n",
    "    return bboxes\n",
    "\n",
    "\n",
    "def produce_annotation_file(bboxes):\n",
    "    # bboxes is a list of sublists of coordinates for the bboxes\n",
    "    # each entry of the sublist is a tuple ((x1, y1), (x2, y2))\n",
    "    # this produces an annotation file with rows\n",
    "    # 0 x_center y_center width height\n",
    "    # each row corresponds to one bounding box\n",
    "    # returns the result as a string\n",
    "    s = ''\n",
    "    for sublist in bboxes:\n",
    "        for box in sublist:\n",
    "            (x1, y1), (x2, y2) = box\n",
    "            x_center = (x1 + x2) / 2\n",
    "            y_center = (y1 + y2) / 2\n",
    "            width = x2 - x1\n",
    "            height = y2 - y1\n",
    "            s += f'0 {x_center} {y_center} {width} {height}\\n'\n",
    "    return s"
   ]
  },
  {
   "cell_type": "code",
   "execution_count": 62,
   "metadata": {},
   "outputs": [],
   "source": [
    "sample_score = io.imread('sample_score-1.png')/255\n",
    "sample_score = 1-sample_score[:, :, 3]\n",
    "sample_score_resized = (transform.resize(sample_score, (200, 200))*255).astype(np.uint8)\n",
    "io.imsave('saved_image2.png', sample_score_resized)\n",
    "sample_score_reloaded = io.imread('saved_image2.png')"
   ]
  },
  {
   "cell_type": "code",
   "execution_count": null,
   "metadata": {},
   "outputs": [],
   "source": [
    "print(sample_score_reloaded.shape)\n",
    "plt.imshow(sample_score_reloaded[:, :])"
   ]
  },
  {
   "cell_type": "code",
   "execution_count": 55,
   "metadata": {},
   "outputs": [],
   "source": [
    "bboxes = get_bboxes('sample_score-1.svg')  "
   ]
  },
  {
   "cell_type": "code",
   "execution_count": 42,
   "metadata": {},
   "outputs": [
    {
     "name": "stdout",
     "output_type": "stream",
     "text": [
      "(2480, 3508)\n"
     ]
    },
    {
     "data": {
      "image/png": "[encoded data removed]",
      "text/plain": [
       "<Figure size 432x288 with 1 Axes>"
      ]
     },
     "metadata": {
      "needs_background": "light"
     },
     "output_type": "display_data"
    }
   ],
   "source": [
    "image = Image.open('sample_score-1.png')\n",
    "print(image.size)\n",
    "h = 200\n",
    "w = 200\n",
    "image = image.resize((w, h))\n",
    "draw = ImageDraw.Draw(image)\n",
    "for region in bboxes:\n",
    "    for bbox in region:\n",
    "        ((x1, y1), (x2, y2)) = bbox\n",
    "        bbox = ((x1*w, y1*h), (x2*w, y2*h))\n",
    "        draw.rectangle(bbox, outline='red', width=5)\n",
    "image_np = np.array(image)\n",
    "plt.imshow(image_np, cmap='bone_r')\n",
    "processed_image = Image.fromarray(image_np)\n",
    "processed_image.save('saved_image.png')"
   ]
  },
  {
   "cell_type": "code",
   "execution_count": null,
   "metadata": {},
   "outputs": [],
   "source": []
  }
 ],
 "metadata": {
  "kernelspec": {
   "display_name": "Python 3",
   "language": "python",
   "name": "python3"
  },
  "language_info": {
   "codemirror_mode": {
    "name": "ipython",
    "version": 3
   },
   "file_extension": ".py",
   "mimetype": "text/x-python",
   "name": "python",
   "nbconvert_exporter": "python",
   "pygments_lexer": "ipython3",
   "version": "3.7.4"
  }
 },
 "nbformat": 4,
 "nbformat_minor": 4
}
