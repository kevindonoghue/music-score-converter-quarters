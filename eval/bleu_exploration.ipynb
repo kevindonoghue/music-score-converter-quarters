{
 "cells": [
  {
   "cell_type": "code",
   "execution_count": 1,
   "metadata": {},
   "outputs": [],
   "source": [
    "import nltk"
   ]
  },
  {
   "cell_type": "code",
   "execution_count": 2,
   "metadata": {},
   "outputs": [],
   "source": [
    "word_to_ix = {\"6\": 0, \"<START>\": 1, \"12\": 2, \"7\": 3, \"rest\": 4, \"pitch\": 5, \"3\": 6, \"E\": 7, \"}\": 8, \"quarter\": 9, \"2\": 10, \"16\": 11, \"4\": 12, \"C\": 13, \"measure\": 14, \"<END>\": 15, \"0\": 16, \"staff\": 17, \"duration\": 18, \"G\": 19, \"chord\": 20, \"D\": 21, \"5\": 22, \"F\": 23, \"B\": 24, \"note\": 25, \"backup\": 26, \"type\": 27, \"A\": 28, \"-1\": 29, \"1\": 30, \"<PAD>\": 31}\n",
    "ix_to_word = {\"0\": \"6\", \"1\": \"<START>\", \"2\": \"12\", \"3\": \"7\", \"4\": \"rest\", \"5\": \"pitch\", \"6\": \"3\", \"7\": \"E\", \"8\": \"}\", \"9\": \"quarter\", \"10\": \"2\", \"11\": \"16\", \"12\": \"4\", \"13\": \"C\", \"14\": \"measure\", \"15\": \"<END>\", \"16\": \"0\", \"17\": \"staff\", \"18\": \"duration\", \"19\": \"G\", \"20\": \"chord\", \"21\": \"D\", \"22\": \"5\", \"23\": \"F\", \"24\": \"B\", \"25\": \"note\", \"26\": \"backup\", \"27\": \"type\", \"28\": \"A\", \"29\": \"-1\", \"30\": \"1\", \"31\": \"<PAD>\"}\n",
    "lexicon = set(word_to_ix)"
   ]
  },
  {
   "cell_type": "code",
   "execution_count": null,
   "metadata": {},
   "outputs": [],
   "source": []
  }
 ],
 "metadata": {
  "kernelspec": {
   "display_name": "Python 3",
   "language": "python",
   "name": "python3"
  },
  "language_info": {
   "codemirror_mode": {
    "name": "ipython",
    "version": 3
   },
   "file_extension": ".py",
   "mimetype": "text/x-python",
   "name": "python",
   "nbconvert_exporter": "python",
   "pygments_lexer": "ipython3",
   "version": "3.7.4"
  }
 },
 "nbformat": 4,
 "nbformat_minor": 4
}
