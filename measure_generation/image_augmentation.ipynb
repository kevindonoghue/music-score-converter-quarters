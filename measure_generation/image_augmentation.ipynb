{
 "cells": [
  {
   "cell_type": "code",
   "execution_count": 1,
   "metadata": {},
   "outputs": [],
   "source": [
    "import numpy as np\n",
    "from PIL import Image\n",
    "from bs4 import BeautifulSoup\n",
    "from scipy.ndimage.filters import correlate, convolve\n",
    "import matplotlib.pyplot as plt\n",
    "import time"
   ]
  },
  {
   "cell_type": "code",
   "execution_count": null,
   "metadata": {},
   "outputs": [],
   "source": [
    "# images should be normalized to have values between 0 and 1"
   ]
  },
  {
   "cell_type": "code",
   "execution_count": null,
   "metadata": {},
   "outputs": [],
   "source": [
    "def clip_left(x, k):\n",
    "    return x[k:, :]\n",
    "\n",
    "def clip_right(x, k):\n",
    "    return x[:k, :]\n",
    "\n",
    "def extend_left(x, k):\n",
    "    left_col = x[:, 0].reshape(-1, 1)\n",
    "    tiled = np.tile(left_col, (1, k))\n",
    "    return np.concatenate([tiled, x], axis=1)\n",
    "\n",
    "def extend_right(x, k):\n",
    "    right_col = x[:, 0].reshape(-1, 1)\n",
    "    tiled = np.tile(right_col, (1, k))\n",
    "    return np.concatenate([x, tiled], axis=1)\n",
    "\n",
    "def extend_up(x, k):\n",
    "    return np.concatenate([np.zeros((k, x.shape[1])), x])\n",
    "\n",
    "def extend_down(x, k):\n",
    "    return np.concatenate([x, np.zeros((k, x.shape[1]))])\n",
    "\n",
    "def extend_left(x, k):\n",
    "    return np.concatenate([np.zeros((x.shape[0], k)), x])\n",
    "\n",
    "def extend_right(x, k):\n",
    "    return np.concatenate([x, np.zeros((x.shape[0], k))])\n",
    "\n",
    "def horizontal_jiggle(x, N, p):\n",
    "    jiggle_direction = np.random.choice([1, -1])\n",
    "    y = np.random.uniform(size=(N, x.shape[0]))\n",
    "    for i in range(N):\n",
    "        mask = y[i][y[i] < p]\n",
    "        if jiggle_direction == 1:\n",
    "            x[mask][1:] = x[mask][:-1]\n",
    "        else:\n",
    "            x[mask][:-1] = x[mask][1:]\n",
    "    return x\n",
    "\n",
    "def vertical_jiggle(x, N, p):\n",
    "    jiggle_direction = np.random.choice([1, -1])\n",
    "    y = np.random.uniform(size=(N, x.shape[1]))\n",
    "    for i in range(N):\n",
    "        mask = y[i][y[i] < p]\n",
    "        if jiggle_direction == 1:\n",
    "            x[1:][mask] = x[:-1][mask]\n",
    "        else:\n",
    "            x[:-1][mask] = x[1:][mask]\n",
    "    return x\n",
    "\n",
    "def add_uniform_noise(x, p):\n",
    "        noise = np.random.choice([0, 1], size=x.shape, p=[1-p, p])\n",
    "        return np.maximum(x, noise)\n",
    "    \n",
    "def add_gaussian_noise(x, level):\n",
    "    noise = np.random.randn(*image_np.shape)*level\n",
    "    return np.maximum(x, noise)\n",
    "\n",
    "def make_bw(x):\n",
    "    return np.around(x)\n",
    "\n",
    "def convert_to_1(x):\n",
    "    image = Image.fromarray(x)\n",
    "    image = image.convert('1')\n",
    "    x = np.array(image)\n",
    "    return x\n",
    "\n",
    "def thicken(m, n):\n",
    "    k = np.ones((m, n))\n",
    "    return np.minimum(coorelate(x, k), 1)\n",
    "\n",
    "def add_splotch(x, N, r):\n",
    "    a = np.random.randint(x.shape[0])\n",
    "    b = np.random.randint(x.shape[1])\n",
    "    splotch_points = np.around(np.array([a, b]) + np.random.randn(N, 2)*r)\n",
    "    for point in splotch_points:\n",
    "        if 0 <= point[0] < x.shape[0] and 0 <= point[1] < x.shape[1]:\n",
    "            x[point[0], point[1]] = np.maximum(x[point[0], point[1]], 1)\n",
    "            \n",
    "def add_whitespace"
   ]
  },
  {
   "cell_type": "code",
   "execution_count": 11,
   "metadata": {},
   "outputs": [
    {
     "data": {
      "text/plain": [
       "array([ 0.96202513, -0.19955258, -1.83956465,  0.72309385,  1.33419283,\n",
       "       -0.02653242])"
      ]
     },
     "execution_count": 11,
     "metadata": {},
     "output_type": "execute_result"
    }
   ],
   "source": []
  },
  {
   "cell_type": "code",
   "execution_count": 5,
   "metadata": {},
   "outputs": [
    {
     "name": "stdout",
     "output_type": "stream",
     "text": [
      "[0. 0. 1.]\n"
     ]
    }
   ],
   "source": [
    "a = [0.3, 0.5, 0.7]\n",
    "print(np.around(a))"
   ]
  },
  {
   "cell_type": "code",
   "execution_count": null,
   "metadata": {},
   "outputs": [],
   "source": []
  }
 ],
 "metadata": {
  "kernelspec": {
   "display_name": "Python 3",
   "language": "python",
   "name": "python3"
  },
  "language_info": {
   "codemirror_mode": {
    "name": "ipython",
    "version": 3
   },
   "file_extension": ".py",
   "mimetype": "text/x-python",
   "name": "python",
   "nbconvert_exporter": "python",
   "pygments_lexer": "ipython3",
   "version": "3.7.4"
  }
 },
 "nbformat": 4,
 "nbformat_minor": 4
}
