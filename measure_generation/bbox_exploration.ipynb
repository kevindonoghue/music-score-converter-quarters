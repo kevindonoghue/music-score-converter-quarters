{
 "cells": [
  {
   "cell_type": "code",
   "execution_count": 139,
   "metadata": {},
   "outputs": [],
   "source": [
    "import numpy as np\n",
    "import matplotlib.pyplot as plt\n",
    "from bs4 import BeautifulSoup\n",
    "from PIL import Image, ImageDraw"
   ]
  },
  {
   "cell_type": "code",
   "execution_count": 140,
   "metadata": {},
   "outputs": [],
   "source": [
    "with open('sample_score-2.svg') as f:\n",
    "    soup = BeautifulSoup(f, 'xml')\n",
    "    \n",
    "svg_tag = soup.find('svg')\n",
    "width = float(svg_tag['width'].strip('px'))\n",
    "height = float(svg_tag['height'].strip('px'))\n",
    "    \n",
    "image = Image.open('sample_score-2.png')\n",
    "image_width, image_height = image.width, image.height"
   ]
  },
  {
   "cell_type": "code",
   "execution_count": 141,
   "metadata": {},
   "outputs": [],
   "source": [
    "staff_line_tags = [x for x in soup.find_all('polyline') if x['class'] == 'StaffLines']"
   ]
  },
  {
   "cell_type": "code",
   "execution_count": 142,
   "metadata": {},
   "outputs": [],
   "source": [
    "staff_line_heights = [float(x['points'].split()[0].split(',')[1]) for x in staff_line_tags]"
   ]
  },
  {
   "cell_type": "code",
   "execution_count": 143,
   "metadata": {},
   "outputs": [],
   "source": [
    "def get_coords(s):\n",
    "    # s is a string like M425.006,618.084\n",
    "    # returns a pair of floats (425.006, 618.084)\n",
    "    x = s.split()\n",
    "    x = [y.strip('MCL') for y in x]\n",
    "    x = np.array(list(map(lambda y: list(map(float, y.split(','))), x)))\n",
    "    return x"
   ]
  },
  {
   "cell_type": "code",
   "execution_count": 144,
   "metadata": {},
   "outputs": [],
   "source": [
    "text_tags = [x for x in soup.find_all('path') if x['class'] == 'Text']\n",
    "if text_tags:\n",
    "    text_tag = text_tags[0]\n",
    "    text_coords = get_coords(text_tag['d'])\n",
    "    text_y_coords = [x[1] for x in text_coords]\n",
    "    text_bottom_height = np.max(text_y_coords)\n",
    "    first_height = text_bottom_height\n",
    "else:\n",
    "    first_height = 0"
   ]
  },
  {
   "cell_type": "code",
   "execution_count": 145,
   "metadata": {},
   "outputs": [
    {
     "name": "stdout",
     "output_type": "stream",
     "text": [
      "249.889\n"
     ]
    }
   ],
   "source": [
    "\n",
    "print(text_bottom_height)"
   ]
  },
  {
   "cell_type": "code",
   "execution_count": 146,
   "metadata": {},
   "outputs": [
    {
     "name": "stdout",
     "output_type": "stream",
     "text": [
      "[317.607, 342.607, 367.608, 392.608, 417.608, 580.108, 605.108, 630.108, 655.108, 680.108, 916.598, 941.598, 966.598, 991.598, 1016.6, 1206.47, 1231.47, 1256.47, 1281.47, 1306.47, 1542.96, 1567.96, 1592.96, 1617.96, 1642.96, 1805.46, 1830.46, 1855.46, 1880.46, 1905.46, 2141.95, 2166.95, 2191.95, 2216.95, 2241.95, 2453.0, 2478.0, 2503.0, 2528.0, 2553.0, 2789.49, 2814.49, 2839.49, 2864.49, 2889.49, 3051.99, 3076.99, 3101.99, 3126.99, 3151.99, 3388.48, 3413.48, 3438.48, 3463.48, 3488.48, 3650.98, 3675.98, 3700.98, 3725.98, 3750.98]\n"
     ]
    }
   ],
   "source": [
    "print(staff_line_heights)"
   ]
  },
  {
   "cell_type": "code",
   "execution_count": 147,
   "metadata": {},
   "outputs": [],
   "source": [
    "last_height = (staff_line_heights[-1] + height)/2"
   ]
  },
  {
   "cell_type": "code",
   "execution_count": 148,
   "metadata": {},
   "outputs": [],
   "source": [
    "midpoints = [first_height]\n",
    "for i in range((len(staff_line_heights) // 10)-1):\n",
    "    top = staff_line_heights[10*i + 9]\n",
    "    bottom = staff_line_heights[10*i + 10]\n",
    "    midpoints.append((top + bottom) / 2)\n",
    "midpoints.append(last_height)"
   ]
  },
  {
   "cell_type": "code",
   "execution_count": 149,
   "metadata": {},
   "outputs": [],
   "source": [
    "horizontal_fracs = [x/height for x in midpoints]"
   ]
  },
  {
   "cell_type": "code",
   "execution_count": 150,
   "metadata": {},
   "outputs": [],
   "source": [
    "time_sigs = [x for x in soup.find_all('path') if x['class'] == 'TimeSig']\n",
    "if time_sigs:\n",
    "    time_sig_coords = np.concatenate([get_coords(x['d']) for x in time_sigs], axis=0)\n",
    "    time_sig_max = np.max(time_sig_coords[:, 0])\n",
    "    time_sig_max_frac = time_sig_max/width\n",
    "else:\n",
    "    time_sig_max_frac = None\n",
    "\n",
    "key_sigs = [x for x in soup.find_all('path') if x['class'] == 'KeySig']\n",
    "if key_sigs:\n",
    "    key_sig_coords = np.concatenate([get_coords(x['d']) for x in key_sigs], axis=0)\n",
    "    key_sig_max = np.max(key_sig_coords[:, 0])\n",
    "    key_sig_max_frac = key_sig_max/width\n",
    "else:\n",
    "    key_sig_max_frac = None\n",
    "    \n",
    "clefs = [x for x in soup.find_all('path') if x['class'] == 'Clef']\n",
    "clef_coords = np.concatenate([get_coords(x['d']) for x in clefs], axis=0)\n",
    "clef_max = np.max(clef_coords[:, 0])\n",
    "clef_max_frac = clef_max/width\n",
    "\n",
    "\n",
    "barlines = [x for x in soup.find_all('polyline') if x['class'] == 'BarLine']\n",
    "def get_barline_fracs(barline):\n",
    "    # returns a, b, c where a is the horizontal fraction for the barline and b and c are the top and bottom vertical fractions\n",
    "    barline_string = barline['points']\n",
    "    x = barline_string.split()\n",
    "    y = (list(map(float, x[0].split(','))), list(map(float, x[1].split(','))))\n",
    "    a = y[0][0]/width\n",
    "    b = y[0][1]/height\n",
    "    c = y[1][1]/height\n",
    "    return a, b, c\n",
    "\n",
    "def get_barlines_within_region(h1, h2):\n",
    "    # gets the x coordinates corresponding to barlines whose top and bottom are between h1 and h2\n",
    "    regional_x_coords = []\n",
    "    for barline in barlines:\n",
    "        a, b, c = get_barline_fracs(barline)\n",
    "        if h1 < b <h2 and h1 < c <h2:\n",
    "            regional_x_coords.append(a)\n",
    "    return regional_x_coords\n",
    "\n",
    "sets_of_regional_x_coords = []\n",
    "for i in range(len(horizontal_fracs)-1):\n",
    "    h1 = horizontal_fracs[i]\n",
    "    h2 = horizontal_fracs[i+1]\n",
    "    regional_x_coords = get_barlines_within_region(h1, h2)\n",
    "    # handle duplicates of barlines from the two staves\n",
    "    regional_x_coords = sorted(set(regional_x_coords))\n",
    "    # handle the case of double barline at the end of the piece\n",
    "    if len(regional_x_coords) >= 3 and np.abs(regional_x_coords[-1] - regional_x_coords[-2]) < 0.01:\n",
    "        regional_x_coords = regional_x_coords[:-2]\n",
    "    sets_of_regional_x_coords.append(regional_x_coords)"
   ]
  },
  {
   "cell_type": "code",
   "execution_count": 151,
   "metadata": {},
   "outputs": [],
   "source": [
    "bboxes = []\n",
    "for i in range(len(horizontal_fracs)-1):\n",
    "    h1 = horizontal_fracs[i]\n",
    "    h2 = horizontal_fracs[i+1]\n",
    "    x_coords = sets_of_regional_x_coords[i]\n",
    "    if i == 0 and time_sig_max_frac:\n",
    "        x_coords[0] = time_sig_max_frac\n",
    "    elif key_sig_max_frac:\n",
    "        x_coords[0] = key_sig_max_frac\n",
    "    else:\n",
    "        x_coords[0] = clef_max_frac\n",
    "    regional_bboxes = []\n",
    "    for j in range(len(x_coords)-1):\n",
    "        regional_bboxes.append(((x_coords[j]*image_width, h1*image_height), (x_coords[j+1]*image_width, h2*image_height)))\n",
    "    bboxes.append(regional_bboxes)"
   ]
  },
  {
   "cell_type": "code",
   "execution_count": 152,
   "metadata": {},
   "outputs": [
    {
     "data": {
      "image/png": "[encoded data removed]",
      "text/plain": [
       "<Figure size 432x288 with 1 Axes>"
      ]
     },
     "metadata": {
      "needs_background": "light"
     },
     "output_type": "display_data"
    }
   ],
   "source": [
    "draw = ImageDraw.Draw(image)\n",
    "for region in bboxes:\n",
    "    for bbox in region:\n",
    "        draw.rectangle(bbox, outline='red', width=5)\n",
    "image_np = np.array(image)\n",
    "plt.imshow(image_np, cmap='bone_r')\n",
    "processed_image = Image.fromarray(image_np)\n",
    "processed_image.save('saved_image.png')"
   ]
  },
  {
   "cell_type": "code",
   "execution_count": null,
   "metadata": {},
   "outputs": [],
   "source": []
  }
 ],
 "metadata": {
  "kernelspec": {
   "display_name": "Python 3",
   "language": "python",
   "name": "python3"
  },
  "language_info": {
   "codemirror_mode": {
    "name": "ipython",
    "version": 3
   },
   "file_extension": ".py",
   "mimetype": "text/x-python",
   "name": "python",
   "nbconvert_exporter": "python",
   "pygments_lexer": "ipython3",
   "version": "3.7.4"
  }
 },
 "nbformat": 4,
 "nbformat_minor": 4
}
